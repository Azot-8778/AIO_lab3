{
 "cells": [
  {
   "cell_type": "code",
   "execution_count": 1,
   "metadata": {},
   "outputs": [],
   "source": [
    "import numpy as np\n",
    "import matplotlib.pyplot as plt"
   ]
  },
  {
   "cell_type": "code",
   "execution_count": 2,
   "metadata": {},
   "outputs": [],
   "source": [
    "# def dist(i, j, data):\n",
    "#     coords_i = data[i]\n",
    "#     coords_j = data[j]\n",
    "\n",
    "#     return np.sqrt(((coords_i[0] - coords_j[0])**2) + ((coords_i[1] - coords_j[1])**2))\n",
    "\n",
    "def dist(i, j, data):\n",
    "    return data[i, j]"
   ]
  },
  {
   "cell_type": "code",
   "execution_count": 3,
   "metadata": {},
   "outputs": [],
   "source": [
    "def fitness(chromo, data):\n",
    "    fts = 0\n",
    "    for i in range(1, len(chromo)):\n",
    "        prev_vertex = chromo[i - 1]\n",
    "        curr_vertex = chromo[i]\n",
    "        fts += dist(prev_vertex, curr_vertex, data)\n",
    "    \n",
    "    fts += dist(chromo[0], chromo[-1], data)\n",
    "\n",
    "    return -fts"
   ]
  },
  {
   "cell_type": "code",
   "execution_count": 4,
   "metadata": {},
   "outputs": [],
   "source": [
    "def generate_population(n, dim):\n",
    "    population = [np.random.choice(dim, size=dim, replace=False) for i in range(n)]\n",
    "    return population\n",
    "\n",
    "def population_fitness(pops, data):\n",
    "    return np.array([fitness(pop, data) for pop in pops])"
   ]
  },
  {
   "cell_type": "code",
   "execution_count": 5,
   "metadata": {},
   "outputs": [],
   "source": [
    "# def tournament_selection(population, data, k=3):\n",
    "#     group = np.random.choice(len(population), size=k, replace=False)\n",
    "#     fitnesses = [(i, fitness(population[i], data)) for i in group]\n",
    "#     sfs = sorted(fitnesses, key=lambda x: x[1], reverse=True)\n",
    "\n",
    "#     return sfs[0][0]\n",
    "\n",
    "def selection(population, data):\n",
    "    pop_fts = population_fitness(population, data)\n",
    "    ftssum = np.sum(pop_fts)\n",
    "    proba = pop_fts / ftssum\n",
    "\n",
    "    chosen = np.random.choice(len(population), size=2, replace=False, p=proba)\n",
    "\n",
    "    return chosen\n",
    "\n",
    "def select_pair(population, data):\n",
    "    idx1 = selection(population, data)\n",
    "    idx2 = selection(population, data)\n",
    "\n",
    "    return idx1, idx2"
   ]
  },
  {
   "cell_type": "code",
   "execution_count": 6,
   "metadata": {},
   "outputs": [],
   "source": [
    "def resolve_collision(sep1, sep2, mapping, q):\n",
    "    for i in range(sep1):\n",
    "        if q[i] in q[sep1:sep2]:\n",
    "            candidate = mapping[q[i]]\n",
    "            while True:\n",
    "                if candidate in q[sep1:sep2]:\n",
    "                    candidate = mapping[candidate]\n",
    "                else:\n",
    "                    q[i] = candidate\n",
    "                    break\n",
    "    for i in range(sep2, len(q)):\n",
    "        if q[i] in q[sep1:sep2]:\n",
    "            candidate = mapping[q[i]]\n",
    "            while True:\n",
    "                if candidate in q[sep1:sep2]:\n",
    "                    candidate = mapping[candidate]\n",
    "                else:\n",
    "                    q[i] = candidate\n",
    "                    break\n",
    "\n",
    "def crossover(chromo1, chromo2):\n",
    "    sep1 = np.random.randint(1, len(chromo1)-1)\n",
    "    sep2 = np.random.randint(sep1+1, len(chromo1))\n",
    "\n",
    "    q1 = chromo1.copy()\n",
    "    q2 = chromo2.copy()\n",
    "\n",
    "    for i in range(sep1, sep2):\n",
    "        q1[i], q2[i] = q2[i], q1[i]\n",
    "\n",
    "    mapping = {q1[i]: q2[i] for i in range(sep1, sep2)}\n",
    "    reverse_mapping = {q2[i]: q1[i] for i in range(sep1, sep2)}\n",
    "\n",
    "    resolve_collision(sep1, sep2, mapping, q1)\n",
    "    resolve_collision(sep1, sep2, reverse_mapping, q2)\n",
    "\n",
    "    return q1, q2\n",
    "            \n",
    "def mutate(chr, proba=0.01, S=3):\n",
    "    chromo = chr.copy()\n",
    "    for i in range(len(chromo)):\n",
    "        if np.random.uniform(0, 1) < proba:\n",
    "            chromo[i], chromo[(i + S) % len(chromo)] = chromo[(i + S) % len(chromo)], chromo[i]\n",
    "\n",
    "    return chromo"
   ]
  },
  {
   "cell_type": "code",
   "execution_count": 7,
   "metadata": {},
   "outputs": [],
   "source": [
    "def population_fitness(pops, data):\n",
    "    return [fitness(pop, data) for pop in pops]"
   ]
  },
  {
   "cell_type": "code",
   "execution_count": 8,
   "metadata": {},
   "outputs": [],
   "source": [
    "def open_data(fname):\n",
    "    with open(fname, 'r') as f:\n",
    "        f.readline()\n",
    "        f.readline()\n",
    "        f.readline()\n",
    "        dim = int(f.readline().split()[-1])\n",
    "        vertices = []\n",
    "        f.readline()\n",
    "        f.readline()\n",
    "        for i in range(dim):\n",
    "            coords = list(map(int, f.readline().split()))[1:]\n",
    "            vertices.append(coords)\n",
    "\n",
    "    return vertices\n",
    "\n",
    "def open_file_with_matrix(fname, header_size, data_size, dim):\n",
    "    adj_mat = []\n",
    "    with open(fname, 'r') as f:\n",
    "        for i in range(header_size):\n",
    "            f.readline()\n",
    "        for i in range(data_size):\n",
    "            line = f.readline()\n",
    "            adj_mat.extend(list(map(int, line.split())))\n",
    "\n",
    "    adj_mat = np.array(adj_mat)\n",
    "    \n",
    "    tmp = np.zeros((dim, dim))\n",
    "    tmp[np.tril_indices_from(tmp)] = adj_mat\n",
    "\n",
    "    return tmp + tmp.T\n",
    "\n",
    "        "
   ]
  },
  {
   "cell_type": "code",
   "execution_count": 9,
   "metadata": {},
   "outputs": [],
   "source": [
    "fname = 'gr17.tsp'\n",
    "data = open_file_with_matrix(fname, 7, 13, 17)"
   ]
  },
  {
   "cell_type": "code",
   "execution_count": 10,
   "metadata": {},
   "outputs": [
    {
     "name": "stdout",
     "output_type": "stream",
     "text": [
      "initial best fitness: 3252.0\n",
      "final best fitness: 2932.0\n"
     ]
    }
   ],
   "source": [
    "pop_size = 100\n",
    "max_iter = 1500\n",
    "mutation_proba = 0.05\n",
    "mutation_shift = 6\n",
    "\n",
    "pops = generate_population(pop_size, len(data))\n",
    "\n",
    "fitnesses = population_fitness(pops, data)\n",
    "\n",
    "print('initial best fitness:', -np.max(fitnesses))\n",
    "\n",
    "best_fitness = []\n",
    "\n",
    "for _ in range(max_iter):\n",
    "    best_fts = -np.max(fitnesses)\n",
    "    # if best_fitness == None or best_fitness > best_fts:\n",
    "    #     best_fitness = best_fts\n",
    "\n",
    "    best_fitness.append(best_fts)\n",
    "\n",
    "    idx1, idx2 = selection(pops, data)\n",
    "    sib1, sib2 = crossover(pops[idx1], pops[idx2])\n",
    "    sib1 = mutate(sib1, mutation_proba, mutation_shift)\n",
    "    sib2 = mutate(sib2, mutation_proba, mutation_shift)\n",
    "    pops[idx1] = sib1\n",
    "    pops[idx2] = sib2\n",
    "\n",
    "    fitnesses[idx1] = fitness(sib1, data)\n",
    "    fitnesses[idx2] = fitness(sib2, data)\n",
    "\n",
    "#plt.plot(np.arange(0, max_iter), best_fitness)\n",
    "\n",
    "#popfts = population_fitness(pops, data)\n",
    "#print('final mean fitness:', -np.mean(fitnesses))\n",
    "print('final best fitness:', np.min(best_fitness))"
   ]
  },
  {
   "cell_type": "code",
   "execution_count": null,
   "metadata": {},
   "outputs": [],
   "source": []
  }
 ],
 "metadata": {
  "kernelspec": {
   "display_name": "Python 3 (ipykernel)",
   "language": "python",
   "name": "python3"
  },
  "language_info": {
   "codemirror_mode": {
    "name": "ipython",
    "version": 3
   },
   "file_extension": ".py",
   "mimetype": "text/x-python",
   "name": "python",
   "nbconvert_exporter": "python",
   "pygments_lexer": "ipython3",
   "version": "3.9.16"
  }
 },
 "nbformat": 4,
 "nbformat_minor": 2
}
